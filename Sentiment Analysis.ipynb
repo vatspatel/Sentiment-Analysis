{
 "cells": [
  {
   "cell_type": "markdown",
   "metadata": {},
   "source": [
    "# Sentiment Analysis"
   ]
  },
  {
   "cell_type": "markdown",
   "metadata": {},
   "source": [
    "### <font color='blue'>What is Sentiment Analysis?</font>\n",
    "\n",
    "**Deriving emotional feeling invoked by a piece of text. It involves extracting meaning from natural language and assigning it a numerical score depicting the range of positive or negative sentiment conveyed by the text**<br>\n",
    "\n",
    "**for ex. - \"Apple share price dropped by 30% due to Covid19 lockdown\" conveys a very negative sentiment. However - \"I bought a new house\" conveys a positive sentiment**<br>\n",
    "**\"A bus is moving on the road\" - conveys a neutral sentiment**"
   ]
  },
  {
   "cell_type": "markdown",
   "metadata": {},
   "source": [
    "#### <font color='blue'>Techniques for Sentiment Analysis</font>"
   ]
  },
  {
   "cell_type": "markdown",
   "metadata": {},
   "source": [
    "**\n",
    "1. TextBlob<br>\n",
    "    - NaiveBayesClassifier<br>\n",
    "    - Pattern Analyzer<br>\n",
    "2. Word-Dictionary based <br>\n",
    "3. Custom trained supervised classifier<br>\n",
    "4. Named Entity based Sentiment Analysis (Targetted)**"
   ]
  },
  {
   "cell_type": "markdown",
   "metadata": {},
   "source": [
    "<hr>"
   ]
  },
  {
   "cell_type": "markdown",
   "metadata": {},
   "source": [
    "## 1. TextBlob"
   ]
  },
  {
   "cell_type": "markdown",
   "metadata": {},
   "source": [
    "**<font color='purple'>TextBlob is a Python (2 and 3) library for processing textual data. It provides a simple API for diving into common natural language processing (NLP) tasks such as part-of-speech tagging, noun phrase extraction, sentiment analysis, classification, translation, and more.</font>**\n",
    "\n",
    "https://textblob.readthedocs.io/en/dev/"
   ]
  },
  {
   "cell_type": "code",
   "execution_count": 2,
   "metadata": {},
   "outputs": [],
   "source": [
    "#!pip install -U textblob"
   ]
  },
  {
   "cell_type": "markdown",
   "metadata": {},
   "source": [
    "**Dependencies**"
   ]
  },
  {
   "cell_type": "code",
   "execution_count": 49,
   "metadata": {},
   "outputs": [],
   "source": [
    "from textblob import TextBlob\n",
    "from textblob.sentiments import NaiveBayesAnalyzer, PatternAnalyzer"
   ]
  },
  {
   "cell_type": "code",
   "execution_count": 18,
   "metadata": {},
   "outputs": [],
   "source": [
    "text = 'Apple is a very succcessful company due to its visionary leadership team. They have a very bright future'"
   ]
  },
  {
   "cell_type": "markdown",
   "metadata": {},
   "source": [
    "**Default Method**"
   ]
  },
  {
   "cell_type": "code",
   "execution_count": 19,
   "metadata": {},
   "outputs": [
    {
     "data": {
      "text/plain": [
       "Sentiment(polarity=0.24625000000000002, subjectivity=0.45)"
      ]
     },
     "execution_count": 19,
     "metadata": {},
     "output_type": "execute_result"
    }
   ],
   "source": [
    "blob = TextBlob(text)\n",
    "blob.sentiment"
   ]
  },
  {
   "cell_type": "markdown",
   "metadata": {},
   "source": [
    "**Naive Bayes**"
   ]
  },
  {
   "cell_type": "code",
   "execution_count": 22,
   "metadata": {},
   "outputs": [
    {
     "data": {
      "text/plain": [
       "Sentiment(classification='pos', p_pos=0.8980227173699891, p_neg=0.10197728263001006)"
      ]
     },
     "execution_count": 22,
     "metadata": {},
     "output_type": "execute_result"
    }
   ],
   "source": [
    "blob = TextBlob(text, analyzer=NaiveBayesAnalyzer())\n",
    "blob.sentiment"
   ]
  },
  {
   "cell_type": "markdown",
   "metadata": {},
   "source": [
    "**Another example**"
   ]
  },
  {
   "cell_type": "code",
   "execution_count": 179,
   "metadata": {},
   "outputs": [],
   "source": [
    "text = 'There is a lockdown in Delhi due to covid19 pandemic'"
   ]
  },
  {
   "cell_type": "code",
   "execution_count": 180,
   "metadata": {},
   "outputs": [
    {
     "data": {
      "text/plain": [
       "Sentiment(polarity=-0.125, subjectivity=0.375)"
      ]
     },
     "execution_count": 180,
     "metadata": {},
     "output_type": "execute_result"
    }
   ],
   "source": [
    "blob = TextBlob(text)\n",
    "blob.sentiment"
   ]
  },
  {
   "cell_type": "markdown",
   "metadata": {},
   "source": [
    "**Naive Bayes is trained on Movie reviews**"
   ]
  },
  {
   "cell_type": "code",
   "execution_count": 25,
   "metadata": {},
   "outputs": [
    {
     "data": {
      "text/plain": [
       "Sentiment(classification='pos', p_pos=0.6190774158665897, p_neg=0.3809225841334109)"
      ]
     },
     "execution_count": 25,
     "metadata": {},
     "output_type": "execute_result"
    }
   ],
   "source": [
    "blob = TextBlob(text, analyzer=NaiveBayesAnalyzer())\n",
    "blob.sentiment"
   ]
  },
  {
   "cell_type": "markdown",
   "metadata": {},
   "source": [
    "**Default method is PatternAnalyzer**"
   ]
  },
  {
   "cell_type": "code",
   "execution_count": 29,
   "metadata": {},
   "outputs": [
    {
     "data": {
      "text/plain": [
       "Sentiment(polarity=-0.125, subjectivity=0.375)"
      ]
     },
     "execution_count": 29,
     "metadata": {},
     "output_type": "execute_result"
    }
   ],
   "source": [
    "blob = TextBlob(text, analyzer=PatternAnalyzer())\n",
    "blob.sentiment "
   ]
  },
  {
   "cell_type": "markdown",
   "metadata": {},
   "source": [
    "## 2. Word-Dictionary based"
   ]
  },
  {
   "cell_type": "markdown",
   "metadata": {},
   "source": [
    "**<font color='purple'>Create Positive Negative word dictionary created from University of Pittsburgh mpqa corpus (link below)</font><br>**\n",
    "http://mpqa.cs.pitt.edu/lexicons/subj_lexicon/<br>\n",
    "\n",
    "**<font color='purple'>The MPQA Opinion Corpus contains news articles from a wide variety of news sources manually annotated for opinions and other private states (i.e., beliefs, emotions, sentiments, speculations, etc.)</font>**"
   ]
  },
  {
   "cell_type": "code",
   "execution_count": 37,
   "metadata": {},
   "outputs": [
    {
     "name": "stdout",
     "output_type": "stream",
     "text": [
      "Total positive words found:  2718\n",
      "Total negative words found:  4911\n"
     ]
    }
   ],
   "source": [
    "pos_words = []\n",
    "neg_words = []\n",
    "\n",
    "#Ignoring neutral, both, and other polarities\n",
    "with open('data/subjectivity_clues_hltemnlp05/subjclueslen1-HLTEMNLP05.tff') as file:\n",
    "    for line in file:\n",
    "        line_attrib = line.split()\n",
    "        word = line_attrib[2].split('=')[1] #2nd column in the file\n",
    "        polarity = line_attrib[-1].split('=')[1] #last column in the file\n",
    "        if polarity =='positive':\n",
    "            pos_words.append(word)\n",
    "        elif polarity=='negative':\n",
    "            neg_words.append(word)\n",
    "            \n",
    "print('Total positive words found: ',len(pos_words))\n",
    "print('Total negative words found: ',len(neg_words))\n",
    "\n",
    "#Write results to file for future use\n",
    "with open('pos_words.txt', mode='wt', encoding='utf-8') as myfile:\n",
    "    myfile.write('\\n'.join(pos_words))\n",
    "with open('neg_words.txt', mode='wt', encoding='utf-8') as myfile:\n",
    "    myfile.write('\\n'.join(neg_words))"
   ]
  },
  {
   "cell_type": "markdown",
   "metadata": {},
   "source": [
    "**Append your own domain specific words to positive or negative words**"
   ]
  },
  {
   "cell_type": "code",
   "execution_count": 59,
   "metadata": {},
   "outputs": [
    {
     "name": "stdout",
     "output_type": "stream",
     "text": [
      "Total positive words found:  2720\n",
      "Total negative words found:  4929\n"
     ]
    }
   ],
   "source": [
    "pos_word_add = ['lifted']\n",
    "for term in pos_word_add:\n",
    "    pos_words.append(term)\n",
    "\n",
    "neg_word_add = ['coronavirus','covid','corona','covid19','pandemic','lockdown']\n",
    "for term in neg_word_add:\n",
    "    neg_words.append(term)\n",
    "    \n",
    "print('Total positive words found: ',len(pos_words))\n",
    "print('Total negative words found: ',len(neg_words))"
   ]
  },
  {
   "cell_type": "markdown",
   "metadata": {},
   "source": [
    "**Function to calculate sentiment based on word-dictionary**"
   ]
  },
  {
   "cell_type": "code",
   "execution_count": 63,
   "metadata": {},
   "outputs": [],
   "source": [
    "import nltk\n",
    "def calc_sentiment_based_on_word_dict(text):\n",
    "    sentiment_score = 0\n",
    "    words = nltk.word_tokenize(text)\n",
    "    for word in words:\n",
    "        if word in pos_words:\n",
    "            print('pos:',word)\n",
    "            sentiment_score=sentiment_score+1\n",
    "        if word in neg_words:\n",
    "            print('neg:',word)\n",
    "            sentiment_score=sentiment_score-1\n",
    "    return sentiment_score/len(words)"
   ]
  },
  {
   "cell_type": "markdown",
   "metadata": {},
   "source": [
    "**Example 1**"
   ]
  },
  {
   "cell_type": "code",
   "execution_count": 39,
   "metadata": {},
   "outputs": [
    {
     "name": "stdout",
     "output_type": "stream",
     "text": [
      "The sentiment score of this text is: 0.11\n"
     ]
    }
   ],
   "source": [
    "text = 'Apple is a very succcessful company due to its visionary leadership team. They have a very bright future'\n",
    "sentiment = calc_sentiment_based_on_word_dict(text)\n",
    "print('The sentiment score of this text is: {:.2f}'.format(sentiment) )"
   ]
  },
  {
   "cell_type": "markdown",
   "metadata": {},
   "source": [
    "**Example2**"
   ]
  },
  {
   "cell_type": "code",
   "execution_count": 42,
   "metadata": {},
   "outputs": [
    {
     "name": "stdout",
     "output_type": "stream",
     "text": [
      "The sentiment score of this text is: -0.30\n"
     ]
    }
   ],
   "source": [
    "text = 'There is a lockdown in Chicago due to covid19 pandemic'\n",
    "sentiment = calc_sentiment_based_on_word_dict(text)\n",
    "print('The sentiment score of this text is: {:.2f}'.format(sentiment) )"
   ]
  },
  {
   "cell_type": "markdown",
   "metadata": {},
   "source": [
    "**Example3**"
   ]
  },
  {
   "cell_type": "code",
   "execution_count": 65,
   "metadata": {},
   "outputs": [
    {
     "name": "stdout",
     "output_type": "stream",
     "text": [
      "neg: lockdown\n",
      "pos: lifted\n",
      "The sentiment score of this text is: 0.00\n"
     ]
    }
   ],
   "source": [
    "text = 'The lockdown is lifted.'\n",
    "sentiment = calc_sentiment_based_on_word_dict(text)\n",
    "print('The sentiment score of this text is: {:.2f}'.format(sentiment) )"
   ]
  },
  {
   "cell_type": "code",
   "execution_count": 66,
   "metadata": {},
   "outputs": [
    {
     "data": {
      "text/plain": [
       "Sentiment(polarity=0.0, subjectivity=0.0)"
      ]
     },
     "execution_count": 66,
     "metadata": {},
     "output_type": "execute_result"
    }
   ],
   "source": [
    "blob = TextBlob(text, analyzer=PatternAnalyzer())\n",
    "blob.sentiment "
   ]
  },
  {
   "cell_type": "markdown",
   "metadata": {},
   "source": [
    "## 3. Custom Trained Classifier"
   ]
  },
  {
   "cell_type": "markdown",
   "metadata": {},
   "source": [
    "**Read annotated data file**"
   ]
  },
  {
   "cell_type": "code",
   "execution_count": 154,
   "metadata": {},
   "outputs": [
    {
     "name": "stdout",
     "output_type": "stream",
     "text": [
      "(30, 4)\n"
     ]
    },
    {
     "data": {
      "text/html": [
       "<div>\n",
       "<style scoped>\n",
       "    .dataframe tbody tr th:only-of-type {\n",
       "        vertical-align: middle;\n",
       "    }\n",
       "\n",
       "    .dataframe tbody tr th {\n",
       "        vertical-align: top;\n",
       "    }\n",
       "\n",
       "    .dataframe thead th {\n",
       "        text-align: right;\n",
       "    }\n",
       "</style>\n",
       "<table border=\"1\" class=\"dataframe\">\n",
       "  <thead>\n",
       "    <tr style=\"text-align: right;\">\n",
       "      <th></th>\n",
       "      <th>id</th>\n",
       "      <th>text</th>\n",
       "      <th>class</th>\n",
       "      <th>url</th>\n",
       "    </tr>\n",
       "  </thead>\n",
       "  <tbody>\n",
       "    <tr>\n",
       "      <th>0</th>\n",
       "      <td>1</td>\n",
       "      <td>Target stores announced yesterday that it will permanently raise its starting wage for U.S. team members to $15 per hour. Additionally, the company will give a one-time recognition bonus of $200.00 to its frontline store and distribution center hourly workers for their efforts during the coronavirus pandemic.\\n\\nAdditionally, starting this week, Target is also offering a new healthcare benefit that provides access to free virtual healthcare visits through the end of the year, regardless of whether team members are on a Target health insurance plan. The company also announced additional extensions of a 30-day paid leave for vulnerable team members, as well as free backup care for family members.\\n\\n“In the best of times, our team brings incredible energy and empathy to our work, and in harder times they bring those qualities plus extraordinary resilience and agility to keep,” said Target CEO Brian Cornell in a statement. “Everything we aspire to do and be as a company builds on the central role our team members play.”</td>\n",
       "      <td>POS</td>\n",
       "      <td>https://www.goodnewsnetwork.org/target-raises-minimum-wage-to-15/</td>\n",
       "    </tr>\n",
       "    <tr>\n",
       "      <th>1</th>\n",
       "      <td>2</td>\n",
       "      <td>He grew up in a gentrified neighborhood with only a few African-American residents, but after confessing that he’s always felt uneasy walking alone on its streets, his faith in humanity was restored by dozens of neighbors who walked with him in solidarity.\\n\\nThe 29-year-old has lived in the 12 South neighborhood of Nashville his whole life, after his family moved there 54 years ago. But over the course of his life, Shawn Dromgoole has seen the neighborhood change dramatically.\\n\\nRising home values priced out many of the black families who lived there. As they moved out to find more affordable housing, new families moved in, most of them white and more financially well-off—leaving Shawn feeling out of place in his hometown.</td>\n",
       "      <td>POS</td>\n",
       "      <td>https://www.goodnewsnetwork.org/black-man-scared-to-walk-in-neighborhood-joined-by-75-neighbors/</td>\n",
       "    </tr>\n",
       "    <tr>\n",
       "      <th>2</th>\n",
       "      <td>3</td>\n",
       "      <td>This teenage entrepreneur is responsible for inventing a simple, yet brilliant way to help curb coronavirus infections.\\n\\n15-year-old Max Melia designed and developed a wearable wristband which alerts users whenever they are about to touch their face\\n\\nHe first came up with the brilliant idea two years ago as a means of reducing the spread of the cold and flu. After both of Max’s parents contracted COVID-19 four months ago, however, he threw all his efforts into developing a working prototype.\\n“Watching this pandemic unfold on the news, it was clear the devastating effect it was having on people lives’ across the world,” says Max. “However, it wasn’t until I saw the severity of the virus first-hand, when my parents both contracted COVID-19, did I truly appreciate just what we were dealing with.”\\n\\nThe tech-savvy English teen has since produced the VybPro, which warns users whenever they are about to subconsciously touch their face.\\n\\nThe gesture has been recognized as one of the key ways that coronavirus can be transmitted, making it a potentially live-saving invention.</td>\n",
       "      <td>POS</td>\n",
       "      <td>https://www.goodnewsnetwork.org/teen-invents-wristband-that-warns-against-touching-your-face/</td>\n",
       "    </tr>\n",
       "  </tbody>\n",
       "</table>\n",
       "</div>"
      ],
      "text/plain": [
       "   id  \\\n",
       "0  1    \n",
       "1  2    \n",
       "2  3    \n",
       "\n",
       "                                                                                                                                                                                                                                                                                                                                                                                                                                                                                                                                                                                                                                                                                                                                                                                                                                                                                                                                                                                                                                                                                                                                  text  \\\n",
       "0  Target stores announced yesterday that it will permanently raise its starting wage for U.S. team members to $15 per hour. Additionally, the company will give a one-time recognition bonus of $200.00 to its frontline store and distribution center hourly workers for their efforts during the coronavirus pandemic.\\n\\nAdditionally, starting this week, Target is also offering a new healthcare benefit that provides access to free virtual healthcare visits through the end of the year, regardless of whether team members are on a Target health insurance plan. The company also announced additional extensions of a 30-day paid leave for vulnerable team members, as well as free backup care for family members.\\n\\n“In the best of times, our team brings incredible energy and empathy to our work, and in harder times they bring those qualities plus extraordinary resilience and agility to keep,” said Target CEO Brian Cornell in a statement. “Everything we aspire to do and be as a company builds on the central role our team members play.”                                                              \n",
       "1  He grew up in a gentrified neighborhood with only a few African-American residents, but after confessing that he’s always felt uneasy walking alone on its streets, his faith in humanity was restored by dozens of neighbors who walked with him in solidarity.\\n\\nThe 29-year-old has lived in the 12 South neighborhood of Nashville his whole life, after his family moved there 54 years ago. But over the course of his life, Shawn Dromgoole has seen the neighborhood change dramatically.\\n\\nRising home values priced out many of the black families who lived there. As they moved out to find more affordable housing, new families moved in, most of them white and more financially well-off—leaving Shawn feeling out of place in his hometown.                                                                                                                                                                                                                                                                                                                                                                        \n",
       "2  This teenage entrepreneur is responsible for inventing a simple, yet brilliant way to help curb coronavirus infections.\\n\\n15-year-old Max Melia designed and developed a wearable wristband which alerts users whenever they are about to touch their face\\n\\nHe first came up with the brilliant idea two years ago as a means of reducing the spread of the cold and flu. After both of Max’s parents contracted COVID-19 four months ago, however, he threw all his efforts into developing a working prototype.\\n“Watching this pandemic unfold on the news, it was clear the devastating effect it was having on people lives’ across the world,” says Max. “However, it wasn’t until I saw the severity of the virus first-hand, when my parents both contracted COVID-19, did I truly appreciate just what we were dealing with.”\\n\\nThe tech-savvy English teen has since produced the VybPro, which warns users whenever they are about to subconsciously touch their face.\\n\\nThe gesture has been recognized as one of the key ways that coronavirus can be transmitted, making it a potentially live-saving invention.   \n",
       "\n",
       "  class  \\\n",
       "0  POS    \n",
       "1  POS    \n",
       "2  POS    \n",
       "\n",
       "                                                                                                url  \n",
       "0  https://www.goodnewsnetwork.org/target-raises-minimum-wage-to-15/                                 \n",
       "1  https://www.goodnewsnetwork.org/black-man-scared-to-walk-in-neighborhood-joined-by-75-neighbors/  \n",
       "2  https://www.goodnewsnetwork.org/teen-invents-wristband-that-warns-against-touching-your-face/     "
      ]
     },
     "execution_count": 154,
     "metadata": {},
     "output_type": "execute_result"
    }
   ],
   "source": [
    "import pandas as pd\n",
    "pd.set_option('display.max_colwidth', -1)\n",
    "news_df = pd.read_csv('data/POS_NEG_NEWS.csv')\n",
    "print(news_df.shape)\n",
    "news_df.head(3)"
   ]
  },
  {
   "cell_type": "markdown",
   "metadata": {},
   "source": [
    "**Dependencies**"
   ]
  },
  {
   "cell_type": "code",
   "execution_count": 71,
   "metadata": {},
   "outputs": [],
   "source": [
    "from sklearn.linear_model import LogisticRegression,SGDClassifier\n",
    "from sklearn.model_selection import train_test_split\n",
    "from sklearn.metrics import classification_report, confusion_matrix, accuracy_score\n",
    "from sklearn import metrics\n",
    "from sklearn.feature_extraction.text import CountVectorizer, HashingVectorizer, TfidfTransformer, TfidfVectorizer\n",
    "from sklearn.naive_bayes import MultinomialNB\n",
    "from sklearn.metrics import precision_recall_fscore_support as score"
   ]
  },
  {
   "cell_type": "markdown",
   "metadata": {},
   "source": [
    "**Prepare Predictor and Response variables**"
   ]
  },
  {
   "cell_type": "code",
   "execution_count": 155,
   "metadata": {},
   "outputs": [
    {
     "name": "stdout",
     "output_type": "stream",
     "text": [
      "(30,)\n",
      "(30,)\n"
     ]
    }
   ],
   "source": [
    "X = news_df['text']\n",
    "y = news_df['class'].map({'POS':0, 'NEG':1})\n",
    "print(X.shape)\n",
    "print(y.shape)"
   ]
  },
  {
   "cell_type": "markdown",
   "metadata": {},
   "source": [
    "**Create train/test split with stratification**"
   ]
  },
  {
   "cell_type": "code",
   "execution_count": 96,
   "metadata": {},
   "outputs": [
    {
     "name": "stdout",
     "output_type": "stream",
     "text": [
      "(20,)\n",
      "(10,)\n",
      "(20,)\n",
      "(10,)\n"
     ]
    }
   ],
   "source": [
    "# split X and y into training and testing sets\n",
    "X_train, X_test, y_train, y_test = train_test_split(X, y,test_size=0.33, random_state=1,stratify=y)\n",
    "print(X_train.shape)\n",
    "print(X_test.shape)\n",
    "print(y_train.shape)\n",
    "print(y_test.shape)"
   ]
  },
  {
   "cell_type": "markdown",
   "metadata": {},
   "source": [
    "**Vectorize data using CountVectorizer**"
   ]
  },
  {
   "cell_type": "code",
   "execution_count": 98,
   "metadata": {},
   "outputs": [],
   "source": [
    "vectorizer = CountVectorizer(analyzer='word',\n",
    "                        max_df=0.9,\n",
    "                        max_features=1000,\n",
    "                        ngram_range=(1, 3))\n",
    "\n",
    "X_train_dtm = vectorizer.fit_transform(X_train)\n",
    "X_test_dtm = vectorizer.transform(X_test)"
   ]
  },
  {
   "cell_type": "markdown",
   "metadata": {},
   "source": [
    "**Function to fit three different ML models**"
   ]
  },
  {
   "cell_type": "code",
   "execution_count": 99,
   "metadata": {},
   "outputs": [],
   "source": [
    "models = [MultinomialNB,LogisticRegression,SGDClassifier]\n",
    "\n",
    "def fit_models(X_train,y_train,X_test,y_test,model):\n",
    "    model = model()\n",
    "    model.fit(X_train,y_train)\n",
    "    return model"
   ]
  },
  {
   "cell_type": "markdown",
   "metadata": {},
   "source": [
    "**Model 1 - Naive Bayes**"
   ]
  },
  {
   "cell_type": "code",
   "execution_count": 132,
   "metadata": {},
   "outputs": [
    {
     "name": "stdout",
     "output_type": "stream",
     "text": [
      "Wall time: 1 ms\n",
      "Accuracy Score: 0.9\n",
      "              precision    recall  f1-score   support\n",
      "\n",
      "           0       0.83      1.00      0.91         5\n",
      "           1       1.00      0.80      0.89         5\n",
      "\n",
      "    accuracy                           0.90        10\n",
      "   macro avg       0.92      0.90      0.90        10\n",
      "weighted avg       0.92      0.90      0.90        10\n",
      "\n",
      "[[5 0]\n",
      " [1 4]]\n"
     ]
    }
   ],
   "source": [
    "#Naive Bayes\n",
    "%time model = fit_models(X_train_dtm,y_train,X_test_dtm,y_test,models[0])\n",
    "# make class predictions for X_test_dtm\n",
    "y_pred_class = model.predict(X_test_dtm)\n",
    "\n",
    "# calculate accuracy of class predictions\n",
    "print('Accuracy Score:',metrics.accuracy_score(y_test, y_pred_class))\n",
    "\n",
    "\n",
    "# calculate precision and recall\n",
    "print(classification_report(y_test, y_pred_class))\n",
    "\n",
    "\n",
    "# calculate the confusion matrix\n",
    "print(metrics.confusion_matrix(y_test, y_pred_class))"
   ]
  },
  {
   "cell_type": "markdown",
   "metadata": {},
   "source": [
    "**Model 2 - Logistic Regression**"
   ]
  },
  {
   "cell_type": "code",
   "execution_count": 126,
   "metadata": {},
   "outputs": [
    {
     "name": "stdout",
     "output_type": "stream",
     "text": [
      "Wall time: 2 ms\n",
      "Accuracy Score: 0.9\n",
      "              precision    recall  f1-score   support\n",
      "\n",
      "           0       0.83      1.00      0.91         5\n",
      "           1       1.00      0.80      0.89         5\n",
      "\n",
      "    accuracy                           0.90        10\n",
      "   macro avg       0.92      0.90      0.90        10\n",
      "weighted avg       0.92      0.90      0.90        10\n",
      "\n",
      "[[5 0]\n",
      " [1 4]]\n"
     ]
    }
   ],
   "source": [
    "#Logistic Regression Bayes\n",
    "%time model = fit_models(X_train_dtm,y_train,X_test_dtm,y_test,models[1])\n",
    "# make class predictions for X_test_dtm\n",
    "y_pred_class = model.predict(X_test_dtm)\n",
    "\n",
    "# calculate accuracy of class predictions\n",
    "print('Accuracy Score:',metrics.accuracy_score(y_test, y_pred_class))\n",
    "\n",
    "# calculate precision and recall\n",
    "print(classification_report(y_test, y_pred_class))\n",
    "\n",
    "# calculate the confusion matrix\n",
    "print(metrics.confusion_matrix(y_test, y_pred_class))"
   ]
  },
  {
   "cell_type": "markdown",
   "metadata": {},
   "source": [
    "**Model 3 - SVM**"
   ]
  },
  {
   "cell_type": "code",
   "execution_count": 127,
   "metadata": {},
   "outputs": [
    {
     "name": "stdout",
     "output_type": "stream",
     "text": [
      "Wall time: 1e+03 µs\n",
      "Accuracy Score: 0.8\n",
      "              precision    recall  f1-score   support\n",
      "\n",
      "           0       1.00      0.60      0.75         5\n",
      "           1       0.71      1.00      0.83         5\n",
      "\n",
      "    accuracy                           0.80        10\n",
      "   macro avg       0.86      0.80      0.79        10\n",
      "weighted avg       0.86      0.80      0.79        10\n",
      "\n",
      "[[3 2]\n",
      " [0 5]]\n"
     ]
    }
   ],
   "source": [
    "#SVM\n",
    "%time model = fit_models(X_train_dtm,y_train,X_test_dtm,y_test,models[2])\n",
    "# make class predictions for X_test_dtm\n",
    "y_pred_class = model.predict(X_test_dtm)\n",
    "\n",
    "# calculate accuracy of class predictions\n",
    "print('Accuracy Score:',metrics.accuracy_score(y_test, y_pred_class))\n",
    "\n",
    "# calculate precision and recall\n",
    "print(classification_report(y_test, y_pred_class))\n",
    "\n",
    "# calculate the confusion matrix\n",
    "print(metrics.confusion_matrix(y_test, y_pred_class))\n",
    "countVect_SVM_CM = metrics.confusion_matrix(y_test, y_pred_class)"
   ]
  },
  {
   "cell_type": "markdown",
   "metadata": {},
   "source": [
    "**Unseen Test example 1**"
   ]
  },
  {
   "cell_type": "code",
   "execution_count": 133,
   "metadata": {},
   "outputs": [
    {
     "name": "stdout",
     "output_type": "stream",
     "text": [
      "Wall time: 1e+03 µs\n",
      "[1]\n"
     ]
    }
   ],
   "source": [
    "text = [\"Today was a grim day for New Delhi where there happend communal riots and many people were killed in the clashes. The police arrested 100 people in connnection with the riots.\"]\n",
    "val_vect = vectorizer.transform(text)\n",
    "%time y_pred_class = model.predict(val_vect)\n",
    "print(y_pred_class)"
   ]
  },
  {
   "cell_type": "markdown",
   "metadata": {},
   "source": [
    "**Unseen Test example 2**"
   ]
  },
  {
   "cell_type": "code",
   "execution_count": 135,
   "metadata": {},
   "outputs": [
    {
     "name": "stdout",
     "output_type": "stream",
     "text": [
      "Wall time: 0 ns\n",
      "[0]\n"
     ]
    }
   ],
   "source": [
    "text = [\"I am happy that university has given me scholarship for my Masters degree. The police also lifted the curfew in the city as the coronavirus cases are now down. But anything can go wrong not that so many people will come out of their houses\"]\n",
    "val_vect = vectorizer.transform(text)\n",
    "%time y_pred_class = model.predict(val_vect)\n",
    "print(y_pred_class)"
   ]
  },
  {
   "cell_type": "markdown",
   "metadata": {},
   "source": [
    "**Unseen Article 1**"
   ]
  },
  {
   "cell_type": "code",
   "execution_count": 136,
   "metadata": {},
   "outputs": [],
   "source": [
    "#https://www.mirror.co.uk/news/uk-news/teen-accused-pc-andrew-harper-22247350\n",
    "text =[\"\"\"A teenager accused of murdering PC Andrew Harper said he \"didn't give a f*** and complained that police were \"discriminating\" against travellers after he was arrested at a caravan site, \n",
    "a court heard.\n",
    "\n",
    "Henry Long, 19, allegedly claimed he had been watching DVDs, including Fast and the Furious, with relatives at the time the officer Andrew Harper was dragged to his death behind a car.\n",
    "\n",
    "He allegedly said \"I don't give a f*** about any of this\", as he was charged with murder on September 18, jurors heard.\n",
    "\n",
    "The trio allegedly got rid of their mobile phones by the time police arrived at the traveller's site where they were arrested around 10 minutes after they returned from their getaway journey.\n",
    "\n",
    "Long remarked \"look at me, do I look like a murderer?\", as officers detained him, the court heard. Prosecutors said he told \"clear and deliberate lies\" to distance himself from the \n",
    "horrific killing. He later admitted manslaughter ahead of the murder trial.\n",
    "\n",
    "Mr Laidlaw said: \"Police began, in numbers, to enter the Four Houses Corner site at about 11:44pm just 10 minutes or so after the three defendants had arrived back at the site in the SEAT.\n",
    "\n",
    "\"Henry Long along with Albert Bowers was found in a Fendt Diamond caravan in Plot 2 on the Four Houses Corner site.\n",
    "\n",
    "\"Neither man was found in possession of a mobile phone, and the police could not find any phone attributable to either defendant during their search of the caravan site.\n",
    "\n",
    "\"What becomes clear is that both young men had managed to get rid of their telephones - either by disposing of them or, as would appear more likely by passing them to other members of the \n",
    "travelling community who were not arrested.\"\"\"]"
   ]
  },
  {
   "cell_type": "code",
   "execution_count": 137,
   "metadata": {},
   "outputs": [
    {
     "name": "stdout",
     "output_type": "stream",
     "text": [
      "Wall time: 1 ms\n",
      "[[8.05630867e-13 1.00000000e+00]]\n"
     ]
    }
   ],
   "source": [
    "val_vect = vectorizer.transform(text)\n",
    "%time y_pred_class = model.predict_proba(val_vect)\n",
    "print(y_pred_class)"
   ]
  },
  {
   "cell_type": "markdown",
   "metadata": {},
   "source": [
    "**Unseen Article 2**"
   ]
  },
  {
   "cell_type": "code",
   "execution_count": 138,
   "metadata": {},
   "outputs": [],
   "source": [
    "#https://www.ndtv.com/world-news/dubai-supermarket-delivers-mango-in-lamborghini-2251965?pfrom=home-topstories\n",
    "text=[\"\"\"A supermarket in Dubai is delivering Mangoes at the doorsteps of its customers in a green Lamborghini, a Gulf news report has said.\n",
    "\"The king should travel like a king,\" says Mohammad Jehanzeb, the managing director of the store at Dubai's Pakistan Supermarket.\n",
    "\n",
    "Mohammad Jehanzeb delivers the pulpy fruit himself and also takes the customers on a short ride in the luxury car.\n",
    "\n",
    "In order to avail the offer rolled out on the Facebook page of the famous supermarket, customers are required to make a minimum order of Dh100, the Gulf News report said.\n",
    "\n",
    "\"The idea is to put a smile on people's faces and make them feel special,\" says Mr Jehanzeb.\n",
    "\n",
    "The videos of delighted mango lovers, taking a joy ride in the car, are doing rounds over the internet. Mangoes At Your Doorstep, Lamborghini Joyride: Dubai Supermarket's Offer\n",
    "A supermarket in Dubai is delivering Mangoes at the doorsteps of its customers in a green Lamborghini.\n",
    "\n",
    "\"Each order takes about an hour. We do about 7-8 home deliveries a day but are hoping to ramp up the numbers to 12,\" he adds.\n",
    "\n",
    "Arshad Khan, who hails from India's Lucknow, said that his children were excited after hearing the roar of the Lamborghini outside their Falcon City villa.\n",
    "\n",
    "\"For someone who hails from Lucknow -- the land of the famous dussheri and landga mangoes -- I was a bit skeptical about the taste of Pakistani mangoes. I ordered them for the sheer\n",
    "experience of seeing them come to my place in a luxury supercar,\" Gulf News quoted Mr Khan as saying.\n",
    "\n",
    "\"It was quite exhilarating and I must confess that the mangoes were as delicious as the ones back home,\" he added.\"\"\"]"
   ]
  },
  {
   "cell_type": "code",
   "execution_count": 139,
   "metadata": {},
   "outputs": [
    {
     "name": "stdout",
     "output_type": "stream",
     "text": [
      "Wall time: 1e+03 µs\n",
      "[[0.99533839 0.00466161]]\n"
     ]
    }
   ],
   "source": [
    "val_vect = vectorizer.transform(text)\n",
    "%time y_pred_class = model.predict_proba(val_vect)\n",
    "print(y_pred_class)"
   ]
  },
  {
   "cell_type": "markdown",
   "metadata": {},
   "source": [
    "**Use Snorkel to automate text labelling**"
   ]
  },
  {
   "cell_type": "markdown",
   "metadata": {},
   "source": [
    "## 4. Named Entity based Sentiment Analysis (Targetted)"
   ]
  },
  {
   "cell_type": "markdown",
   "metadata": {},
   "source": [
    "**Spacy based Named Entity recognition**"
   ]
  },
  {
   "cell_type": "code",
   "execution_count": 158,
   "metadata": {},
   "outputs": [],
   "source": [
    "import spacy\n",
    "from spacy import displacy\n",
    "\n",
    "nlp = spacy.load(\"en_core_web_sm\")\n",
    "\n",
    "def spacy_ner(text):\n",
    "    text = text.replace('\\n', ' ')\n",
    "    doc = nlp(text)\n",
    "    entities = []\n",
    "    labels = []\n",
    "    position_start = []\n",
    "    position_end = []\n",
    "\n",
    "    for ent in doc.ents:\n",
    "        if ent.label_ in ['PERSON','ORG','GPE']:\n",
    "            entities.append(ent)\n",
    "            labels.append(ent.label_)\n",
    "    return entities,labels\n",
    "\n",
    "def fit_ner(df):\n",
    "    \"\"\"The dataframe should have a column named 'text'\"\"\"\n",
    "    print('Fitting Spacy NER model...')\n",
    "    ner = df['text'].apply(spacy_ner)\n",
    "    ner_org = {}\n",
    "    ner_per = {}\n",
    "    ner_gpe = {}\n",
    "\n",
    "    for x in ner:\n",
    "        #print(list(x))\n",
    "        for entity, label in zip(x[0],x[1]):\n",
    "            #print(type(entity.text))\n",
    "            if label =='ORG':\n",
    "                ner_org[entity.text] = ner_org.get(entity.text,0) + 1\n",
    "            elif label=='PERSON':\n",
    "                ner_per[entity.text] = ner_per.get(entity.text,0) + 1\n",
    "            else:\n",
    "                ner_gpe[entity.text] = ner_gpe.get(entity.text,0) + 1\n",
    "\n",
    "    return {'ORG':ner_org,'PER':ner_per,'GPE':ner_gpe}"
   ]
  },
  {
   "cell_type": "code",
   "execution_count": 159,
   "metadata": {},
   "outputs": [
    {
     "name": "stdout",
     "output_type": "stream",
     "text": [
      "Fitting Spacy NER model...\n"
     ]
    }
   ],
   "source": [
    "named_entities = fit_ner(news_df)"
   ]
  },
  {
   "cell_type": "markdown",
   "metadata": {},
   "source": [
    "**Organization Named Entities**"
   ]
  },
  {
   "cell_type": "code",
   "execution_count": 163,
   "metadata": {},
   "outputs": [
    {
     "data": {
      "text/plain": [
       "{'Target': 4,\n",
       " 'Chemical': 1,\n",
       " 'UNSW Sydney': 1,\n",
       " 'Advanced Energy Materials': 1,\n",
       " 'UNSW': 1,\n",
       " 'School of Chemical Engineering': 1,\n",
       " 'the Particles and Catalysis Research Laboratory': 1,\n",
       " 'Scientia': 1,\n",
       " 'the Research Institute of Horticulture': 1,\n",
       " 'Kamryn': 3,\n",
       " 'Kamryn & Friends': 1,\n",
       " 'Justice': 1,\n",
       " 'NFL': 1,\n",
       " 'WCCO News': 1,\n",
       " 'Senate': 3,\n",
       " 'Criminal Justice Commission': 1,\n",
       " 'Good News Network': 1,\n",
       " 'House': 1,\n",
       " 'Portland State University': 1,\n",
       " 'The Star Spangled Banner': 1,\n",
       " 'the Portland Opera': 1,\n",
       " 'Henreid': 1,\n",
       " 'Oxford University': 1,\n",
       " 'BBC': 1,\n",
       " 'RECOVERY': 1,\n",
       " 'the Pakistan High Court': 1,\n",
       " 'Islamabad Wildlife Management Board': 1,\n",
       " 'IWMB': 1,\n",
       " 'Capitol Hill': 2,\n",
       " 'the National Parks Service': 2,\n",
       " 'the Forest Service': 2,\n",
       " 'the Bureau of Indian Education': 2,\n",
       " 'the Bureau of Land Management': 2,\n",
       " 'the Fish and Wildlife Service': 2,\n",
       " 'the Land and Water Conservation Fund': 2,\n",
       " 'the Natural Resources Management Act': 2,\n",
       " 'the US House of Representatives': 2,\n",
       " 'the Conservation Fund': 2,\n",
       " 'the Great American Outdoors Act': 2,\n",
       " 'Graduating': 1,\n",
       " 'John Abbott College': 1,\n",
       " 'Quebec': 1,\n",
       " 'GNN': 1,\n",
       " 'the Sumner County Sheriff': 1,\n",
       " 'Facebook': 1,\n",
       " 'Whole Foods': 3,\n",
       " 'Starkey Spring Water': 1,\n",
       " 'Consumer Reports': 1,\n",
       " 'Starkey': 1,\n",
       " 'FDA': 3,\n",
       " 'CNN Business': 1,\n",
       " 'Persis': 2,\n",
       " 'Santhankulam': 2,\n",
       " 'Chatham': 1,\n",
       " 'The Cook County': 1,\n",
       " 'Fernwood': 1,\n",
       " 'Trinity Hospital': 1,\n",
       " 'the University of Chicago Medical Center': 1,\n",
       " 'Mercy Hospital': 1,\n",
       " 'Halsted': 1,\n",
       " 'State': 1,\n",
       " 'DUI': 3,\n",
       " 'THC': 1,\n",
       " 'South Shore High School': 1,\n",
       " 'Stroger Hospital': 1,\n",
       " 'Stroger': 1,\n",
       " 'Mt. Sinai Hospital': 1,\n",
       " 'the Madras High Court': 1,\n",
       " 'High Court': 1,\n",
       " 'Human Rights': 1,\n",
       " \"People's Watch\": 1,\n",
       " 'the Judicial Magistrate': 1,\n",
       " 'the National Oceanic & Atmospheric Administration': 2,\n",
       " 'SAL': 1,\n",
       " 'NOAA': 1,\n",
       " 'Comer Children’s Hospital': 1,\n",
       " 'Mount Sinai Hospital': 1,\n",
       " 'Deutsch': 1,\n",
       " 'Chrysler': 1,\n",
       " 'Palos Community Hospital': 1,\n",
       " 'the Cook County': 1,\n",
       " 'Area Two': 1,\n",
       " 'the Phoolbagan Police Station': 1,\n",
       " 'Kolkata Police': 1,\n",
       " 'DCP': 3,\n",
       " 'Muralidhar Agarwal': 1,\n",
       " 'the Kolkata Police': 1,\n",
       " 'Mahadevpura Police': 1,\n",
       " 'Amit Agarwal': 2,\n",
       " 'Mahadevpura PS': 1,\n",
       " 'Police': 1,\n",
       " 'The News Minute': 1,\n",
       " 'Kollam': 1,\n",
       " 'Sooraj': 1,\n",
       " 'Kollam Rural Police': 1,\n",
       " 'Duke University': 2,\n",
       " 'the National Climate Assessment': 1,\n",
       " 'Complications': 1,\n",
       " 'Nasdaq Composite': 1,\n",
       " 'Nasdaq': 2,\n",
       " 'Dow': 1,\n",
       " 'MUFG': 1,\n",
       " 'United Airlines': 1,\n",
       " 'Delta': 1,\n",
       " 'Bleakley Advisory Group': 1,\n",
       " 'Carnival': 1,\n",
       " 'Royal Caribbean': 1,\n",
       " 'Disney': 1,\n",
       " 'SFPD': 1,\n",
       " 'The Santa Fe Police Department': 1,\n",
       " 'SFR': 1,\n",
       " 'FBI': 2}"
      ]
     },
     "execution_count": 163,
     "metadata": {},
     "output_type": "execute_result"
    }
   ],
   "source": [
    "named_entities['ORG']"
   ]
  },
  {
   "cell_type": "markdown",
   "metadata": {},
   "source": [
    "**Person Named Entities**"
   ]
  },
  {
   "cell_type": "code",
   "execution_count": 164,
   "metadata": {},
   "outputs": [
    {
     "data": {
      "text/plain": [
       "{'Brian Cornell': 1,\n",
       " 'Shawn Dromgoole': 1,\n",
       " 'Shawn': 1,\n",
       " 'Max Melia': 1,\n",
       " 'Max': 2,\n",
       " 'Rahman Daiyan': 1,\n",
       " 'Emma Lovell': 1,\n",
       " 'Rose Amal': 1,\n",
       " 'Wolfgang Palme': 1,\n",
       " '-11º Celsius': 1,\n",
       " 'Kamryn Johnson': 1,\n",
       " 'Ron Johnson': 1,\n",
       " 'George Floyd': 3,\n",
       " 'Libertarian Justin Amash': 1,\n",
       " 'Tim Scott': 1,\n",
       " 'Scott': 1,\n",
       " 'Madisen Hallberg': 1,\n",
       " 'Emmanuel Henreid': 1,\n",
       " 'Hallberg': 1,\n",
       " 'GNN': 1,\n",
       " 'Onry': 1,\n",
       " 'Peter Horby': 1,\n",
       " 'Martin Landry': 1,\n",
       " 'Cher': 1,\n",
       " 'Kaavan': 1,\n",
       " 'Jody McDowell': 1,\n",
       " 'McDowell': 2,\n",
       " 'Tamil Nadu': 2,\n",
       " 'Jayaraj': 6,\n",
       " 'Pennis': 4,\n",
       " 'Arun Balagopalan': 2,\n",
       " 'Jessie D. Gregory': 1,\n",
       " 'Stephen Nolan': 1,\n",
       " 'Kevin Deboni': 1,\n",
       " 'Deboni': 6,\n",
       " 'Caleb White': 1,\n",
       " 'Irving Federman': 1,\n",
       " 'Federman': 1,\n",
       " 'David Brown': 1,\n",
       " 'Brown': 1,\n",
       " 'Stroger': 1,\n",
       " 'Amaria J. Jones': 1,\n",
       " 'E Palaniswami': 1,\n",
       " 'Kanimozhi': 1,\n",
       " 'Henri Tiphagne': 1,\n",
       " 'Jeff Beamish': 2,\n",
       " 'Wayne Deutsch': 1,\n",
       " 'Deutsch': 3,\n",
       " 'W. Illinois Highway': 1,\n",
       " 'Jasean Francis': 1,\n",
       " 'Charles Riley': 1,\n",
       " 'Puma': 1,\n",
       " 'Subhas': 1,\n",
       " 'Lalita Dhandhania': 1,\n",
       " 'Amit': 3,\n",
       " 'Shilpi': 1,\n",
       " 'Bengaluru': 1,\n",
       " 'Kolkata': 1,\n",
       " 'Mrs Shilpi Agarwal': 1,\n",
       " 'Shilpi Agarwal': 1,\n",
       " 'Prima': 1,\n",
       " 'Uthra': 2,\n",
       " 'Sooraj': 1,\n",
       " 'Hari Sankar': 1,\n",
       " 'Heat': 1,\n",
       " 'Chris Rupkey': 1,\n",
       " 'Peter Boockvar': 1,\n",
       " 'Retailer Gap': 1,\n",
       " 'Paul Joye': 1,\n",
       " 'Joye': 1,\n",
       " 'Bajit Singh': 1}"
      ]
     },
     "execution_count": 164,
     "metadata": {},
     "output_type": "execute_result"
    }
   ],
   "source": [
    "named_entities['PER']"
   ]
  },
  {
   "cell_type": "markdown",
   "metadata": {},
   "source": [
    "**Geopolitical Named Entities**"
   ]
  },
  {
   "cell_type": "code",
   "execution_count": 165,
   "metadata": {},
   "outputs": [
    {
     "data": {
      "text/plain": [
       "{'U.S.': 7,\n",
       " 'Nashville': 1,\n",
       " 'Lego': 1,\n",
       " 'Palme': 2,\n",
       " 'Austria': 1,\n",
       " 'Minneapolis': 3,\n",
       " 'Minnesota': 1,\n",
       " 'Colorado': 1,\n",
       " 'Kentucky': 1,\n",
       " 'Oregon': 1,\n",
       " 'UK': 2,\n",
       " 'Horby': 1,\n",
       " 'Islamabad': 1,\n",
       " 'Kaavan': 1,\n",
       " 'Sri Lanka': 1,\n",
       " 'Pakistan': 1,\n",
       " 'America': 4,\n",
       " 'Yellowstone': 2,\n",
       " 'improv': 1,\n",
       " 'Quebec': 1,\n",
       " 'Tennessee': 1,\n",
       " 'Baltimore': 1,\n",
       " 'Maryland': 1,\n",
       " 'Tuticorin': 4,\n",
       " 'Chicago': 9,\n",
       " 'St. Bernard’s': 1,\n",
       " 'Bridgeport': 1,\n",
       " 'Schaumburg': 2,\n",
       " 'Gresham': 1,\n",
       " 'Cook County': 1,\n",
       " 'Nolan': 11,\n",
       " 'Las Vegas': 1,\n",
       " 'Austin': 2,\n",
       " 'North LeClaire Avenue': 1,\n",
       " 'the United States': 2,\n",
       " 'the Southern United States': 2,\n",
       " 'Florida': 6,\n",
       " 'Texas': 9,\n",
       " 'Sonoma': 2,\n",
       " 'Louisiana': 2,\n",
       " 'Little Village': 1,\n",
       " 'New Lenox': 1,\n",
       " 'Will County': 2,\n",
       " 'Orland Park': 1,\n",
       " 'South Chicago': 1,\n",
       " 'Bengaluru': 2,\n",
       " 'Kolkata': 3,\n",
       " 'Whitefield': 2,\n",
       " 'India': 1,\n",
       " 'Sooraj': 1,\n",
       " 'Kerala': 2,\n",
       " 'California': 1,\n",
       " 'New York': 2,\n",
       " 'New Jersey': 2,\n",
       " 'Connecticut': 2,\n",
       " 'Arizona': 1,\n",
       " 'Orlando': 1,\n",
       " 'Plaza': 1}"
      ]
     },
     "execution_count": 165,
     "metadata": {},
     "output_type": "execute_result"
    }
   ],
   "source": [
    "named_entities['GPE']"
   ]
  },
  {
   "cell_type": "markdown",
   "metadata": {},
   "source": [
    "**Sentiment Analysis based on top named entities**"
   ]
  },
  {
   "cell_type": "markdown",
   "metadata": {},
   "source": [
    "**Targetted by finding sentences containing the named entities and performing sentiment analysis only on those sentences one by one**"
   ]
  },
  {
   "cell_type": "code",
   "execution_count": 166,
   "metadata": {},
   "outputs": [],
   "source": [
    "from textblob import TextBlob\n",
    "import nltk\n",
    "\n",
    "def get_keyword_sentences(text,keyword):\n",
    "    \"\"\"Extract sentences containing the Named Entity/Keyword\"\"\"\n",
    "    text = text.replace('\\n', ' ')\n",
    "    sentences = nltk.sent_tokenize(text)\n",
    "\n",
    "    sent_of_interest = []\n",
    "    for sent in sentences:\n",
    "        if keyword in sent.lower():\n",
    "            sent_of_interest.append(sent)\n",
    "    return sent_of_interest if len(sent_of_interest)>0 else False\n",
    "\n",
    "\n",
    "def get_sentiment(list_of_sent):\n",
    "    \"\"\" Extract sentiment from a sentence using TextBlob Pattern Analyzer\"\"\"\n",
    "    sentiment = 0\n",
    "    count = 0\n",
    "\n",
    "    if list_of_sent !=False:\n",
    "        for sent in list_of_sent:\n",
    "            blob = TextBlob(sent)\n",
    "            sentiment += blob.sentiment.polarity\n",
    "            count += len(sent)\n",
    "    return sentiment/count if count!=0 else 0  \n",
    "\n",
    "def extract_sentiment(df,keywords,top=10):\n",
    "    \"\"\"df: data for the cluster, keywords: ner for that cluster\"\"\"\n",
    "    print('Extracting Sentiments using TextBlob...')\n",
    "    keywords = sorted(keywords.items(),key=lambda x: x[1],reverse=True)\n",
    "    sentiment_dict = {}\n",
    "    for keyword,count in keywords[:top]:\n",
    "        df['sentences'] = df['text'].apply(get_keyword_sentences,keyword=keyword.lower())\n",
    "        keyword_sentiment = df['sentences'].apply(get_sentiment).sum()\n",
    "        sentiment_dict[keyword] = keyword_sentiment\n",
    "    return sentiment_dict"
   ]
  },
  {
   "cell_type": "markdown",
   "metadata": {},
   "source": [
    "**Top 30 Organizations according to their sentiments**"
   ]
  },
  {
   "cell_type": "code",
   "execution_count": 174,
   "metadata": {},
   "outputs": [
    {
     "name": "stdout",
     "output_type": "stream",
     "text": [
      "Extracting Sentiments using TextBlob...\n"
     ]
    },
    {
     "data": {
      "text/plain": [
       "[('the US House of Representatives', 0.0019907100199071),\n",
       " ('the Conservation Fund', 0.0019907100199071),\n",
       " ('Kamryn', 0.0018972048066875655),\n",
       " ('the National Parks Service', 0.0017921146953405018),\n",
       " ('the Land and Water Conservation Fund', 0.0013941535496305815),\n",
       " ('the Natural Resources Management Act', 0.0013941535496305815),\n",
       " ('Target', 0.0012131536833410769),\n",
       " ('the Great American Outdoors Act', 0.0011459492888064317),\n",
       " ('Capitol Hill', 0.000883481597767312),\n",
       " ('UNSW Sydney', 0.0008679023242130039),\n",
       " ('Chemical', 0.0008595478595478595),\n",
       " ('UNSW', 0.0007272727272727272),\n",
       " ('Senate', 0.0007037413380270522),\n",
       " ('Advanced Energy Materials', 0.0006195786864931846),\n",
       " ('School of Chemical Engineering', 0.0006195786864931846),\n",
       " ('FDA', 0.0005633802816901409),\n",
       " ('Whole Foods', 0.0004136029411764706),\n",
       " ('DUI', 0.0003423736143555005),\n",
       " ('Duke University', 0.0002017213555675094),\n",
       " ('the Forest Service', 0.0),\n",
       " ('the Bureau of Indian Education', 0.0),\n",
       " ('the Bureau of Land Management', 0.0),\n",
       " ('the Fish and Wildlife Service', 0.0),\n",
       " ('Persis', 0.0),\n",
       " ('Santhankulam', 0.0),\n",
       " ('FBI', -0.0003755868544600939),\n",
       " ('the National Oceanic & Atmospheric Administration', -0.0005025125628140704),\n",
       " ('Amit Agarwal', -0.0006304347826086958),\n",
       " ('DCP', -0.0010416666666666667),\n",
       " ('Nasdaq', -0.0042763157894736845)]"
      ]
     },
     "execution_count": 174,
     "metadata": {},
     "output_type": "execute_result"
    }
   ],
   "source": [
    "keywords = named_entities['ORG']\n",
    "sentiment_result_org = extract_sentiment(news_df,keywords,top=30)\n",
    "sentiment_result_org\n",
    "sorted(sentiment_result_org.items(),key=lambda x:x[1], reverse=True)"
   ]
  },
  {
   "cell_type": "markdown",
   "metadata": {},
   "source": [
    "**Top 30 Persons according to their sentiments**"
   ]
  },
  {
   "cell_type": "code",
   "execution_count": 175,
   "metadata": {},
   "outputs": [
    {
     "name": "stdout",
     "output_type": "stream",
     "text": [
      "Extracting Sentiments using TextBlob...\n"
     ]
    },
    {
     "data": {
      "text/plain": [
       "[('GNN', 0.004569909563803812),\n",
       " ('McDowell', 0.002396953405017921),\n",
       " ('Brian Cornell', 0.002359882005899705),\n",
       " ('Hallberg', 0.0014084507042253522),\n",
       " ('Ron Johnson', 0.0013736263736263737),\n",
       " ('Shawn', 0.001013856032443393),\n",
       " ('Rose Amal', 0.0009461358313817331),\n",
       " ('Max Melia', 0.0006799163179916319),\n",
       " ('Rahman Daiyan', 0.0006195786864931846),\n",
       " ('Emma Lovell', 0.0006195786864931846),\n",
       " ('George Floyd', 0.0005177020708082832),\n",
       " ('Tim Scott', 0.0003012048192771084),\n",
       " ('Scott', 0.00023961661341853033),\n",
       " ('Wolfgang Palme', 5.8685446009389656e-05),\n",
       " ('Deutsch', 5.835667600373482e-05),\n",
       " ('Jayaraj', 0.0),\n",
       " ('Arun Balagopalan', 0.0),\n",
       " ('Jeff Beamish', 0.0),\n",
       " ('Shawn Dromgoole', 0.0),\n",
       " ('Madisen Hallberg', 0.0),\n",
       " ('Emmanuel Henreid', 0.0),\n",
       " ('Pennis', -0.00021367521367521362),\n",
       " ('Uthra', -0.0003479236812570146),\n",
       " ('Deboni', -0.0003628628628628629),\n",
       " ('Max', -0.0005604288499025341),\n",
       " ('Libertarian Justin Amash', -0.0005889281507656066),\n",
       " ('Amit', -0.001074475065616798),\n",
       " ('-11º Celsius', -0.001097560975609756),\n",
       " ('Tamil Nadu', -0.002578268876611418),\n",
       " ('Kamryn Johnson', -0.00641025641025641)]"
      ]
     },
     "execution_count": 175,
     "metadata": {},
     "output_type": "execute_result"
    }
   ],
   "source": [
    "keywords = named_entities['PER']\n",
    "sentiment_result_org = extract_sentiment(news_df,keywords,top=30)\n",
    "sentiment_result_org\n",
    "sorted(sentiment_result_org.items(),key=lambda x:x[1], reverse=True)"
   ]
  },
  {
   "cell_type": "markdown",
   "metadata": {},
   "source": [
    "**Top 30 Geopolitical Entities according to their sentiments**"
   ]
  },
  {
   "cell_type": "code",
   "execution_count": 176,
   "metadata": {},
   "outputs": [
    {
     "name": "stdout",
     "output_type": "stream",
     "text": [
      "Extracting Sentiments using TextBlob...\n"
     ]
    },
    {
     "data": {
      "text/plain": [
       "[('U.S.', 0.007197756333989664),\n",
       " ('Lego', 0.003282828282828283),\n",
       " ('Florida', 0.0019480167692380369),\n",
       " ('Yellowstone', 0.0017921146953405018),\n",
       " ('Colorado', 0.0017676767676767676),\n",
       " ('Nashville', 0.0015873015873015873),\n",
       " ('America', 0.0013372595005477282),\n",
       " ('New York', 0.00115112160566706),\n",
       " ('New Jersey', 0.00115112160566706),\n",
       " ('Connecticut', 0.00115112160566706),\n",
       " ('Will County', 0.0008675534991324465),\n",
       " ('Texas', 0.0008449765331576672),\n",
       " ('Schaumburg', 0.0007514450867052024),\n",
       " ('Kerala', 0.0006862745098039215),\n",
       " ('Minnesota', 0.0004947916666666666),\n",
       " ('Austria', 0.00040345019476905957),\n",
       " ('Nolan', 0.00020554291972032683),\n",
       " ('UK', 6.731275341697178e-05),\n",
       " ('Sonoma', 0.0),\n",
       " ('Louisiana', 0.0),\n",
       " ('Chicago', -0.00018155486893953014),\n",
       " ('Palme', -0.00034435261707988976),\n",
       " ('Austin', -0.0003947368421052632),\n",
       " ('the United States', -0.0005025125628140704),\n",
       " ('the Southern United States', -0.0005025125628140704),\n",
       " ('Kolkata', -0.001114900314795383),\n",
       " ('Minneapolis', -0.0011658363526570051),\n",
       " ('Whitefield', -0.0013840830449826991),\n",
       " ('Bengaluru', -0.0017738359201773836),\n",
       " ('Tuticorin', -0.0020131938736589897)]"
      ]
     },
     "execution_count": 176,
     "metadata": {},
     "output_type": "execute_result"
    }
   ],
   "source": [
    "keywords = named_entities['GPE']\n",
    "sentiment_result_org = extract_sentiment(news_df,keywords,top=30)\n",
    "sentiment_result_org\n",
    "sorted(sentiment_result_org.items(),key=lambda x:x[1], reverse=True)"
   ]
  },
  {
   "cell_type": "markdown",
   "metadata": {},
   "source": [
    "## Application: Analyzing Sentiment in a book"
   ]
  },
  {
   "cell_type": "code",
   "execution_count": 181,
   "metadata": {},
   "outputs": [],
   "source": [
    "book = open('data/book_cab_and_goose.txt',encoding=\"utf8\").read()"
   ]
  },
  {
   "cell_type": "code",
   "execution_count": 182,
   "metadata": {},
   "outputs": [
    {
     "data": {
      "text/plain": [
       "Sentiment(classification='pos', p_pos=1.0, p_neg=6.5736053249909995e-257)"
      ]
     },
     "execution_count": 182,
     "metadata": {},
     "output_type": "execute_result"
    }
   ],
   "source": [
    "blob = TextBlob(book, analyzer=NaiveBayesAnalyzer())\n",
    "blob.sentiment"
   ]
  },
  {
   "cell_type": "code",
   "execution_count": 183,
   "metadata": {},
   "outputs": [
    {
     "data": {
      "text/plain": [
       "Sentiment(polarity=0.10141585513512091, subjectivity=0.4815873085413998)"
      ]
     },
     "execution_count": 183,
     "metadata": {},
     "output_type": "execute_result"
    }
   ],
   "source": [
    "blob = TextBlob(book)\n",
    "blob.sentiment"
   ]
  },
  {
   "cell_type": "markdown",
   "metadata": {},
   "source": [
    "**Sentiment per sentence**"
   ]
  },
  {
   "cell_type": "code",
   "execution_count": 184,
   "metadata": {},
   "outputs": [],
   "source": [
    "blob = TextBlob(book)\n",
    "\n",
    "polarity = []\n",
    "subjectivity = []\n",
    "sentences = []\n",
    "PatternAnalyzerDF = pd.DataFrame(columns=['sentence', 'polarity', 'subjectivity'])\n",
    "\n",
    "for sentence in blob.sentences:\n",
    "    polarity.append(sentence.sentiment.polarity)\n",
    "    subjectivity.append(sentence.sentiment.subjectivity)\n",
    "    sentences.append(str(sentence.raw))\n",
    "\n",
    "PatternAnalyzerDF['sentence'] = sentences\n",
    "PatternAnalyzerDF['polarity'] = polarity\n",
    "PatternAnalyzerDF['subjectivity'] = subjectivity\n",
    "\n",
    "PatternAnalyzerDF['sentence'] = PatternAnalyzerDF['sentence'].str.replace('\\n', ' ')"
   ]
  },
  {
   "cell_type": "code",
   "execution_count": 185,
   "metadata": {},
   "outputs": [
    {
     "data": {
      "text/html": [
       "<div>\n",
       "<style scoped>\n",
       "    .dataframe tbody tr th:only-of-type {\n",
       "        vertical-align: middle;\n",
       "    }\n",
       "\n",
       "    .dataframe tbody tr th {\n",
       "        vertical-align: top;\n",
       "    }\n",
       "\n",
       "    .dataframe thead th {\n",
       "        text-align: right;\n",
       "    }\n",
       "</style>\n",
       "<table border=\"1\" class=\"dataframe\">\n",
       "  <thead>\n",
       "    <tr style=\"text-align: right;\">\n",
       "      <th></th>\n",
       "      <th>sentence</th>\n",
       "      <th>polarity</th>\n",
       "      <th>subjectivity</th>\n",
       "    </tr>\n",
       "  </thead>\n",
       "  <tbody>\n",
       "    <tr>\n",
       "      <th>0</th>\n",
       "      <td>The Project Gutenberg eBook, Cab and Caboose, by Kirk Munroe   This eBook is for the use of anyone anywhere at no cost and with almost no restrictions whatsoever.</td>\n",
       "      <td>0.000000</td>\n",
       "      <td>0.000000</td>\n",
       "    </tr>\n",
       "    <tr>\n",
       "      <th>1</th>\n",
       "      <td>You may copy it, give it away or re-use it under the terms of the Project Gutenberg License included with this eBook or online at www.gutenberg.org      Title: Cab and Caboose        The Story of a Railroad Boy   Author: Kirk Munroe    Release Date: September 4, 2007  [eBook #22497]  Language: English   ***START OF THE PROJECT GUTENBERG EBOOK CAB AND CABOOSE***   E-text prepared by Mark C. Orton, Linda McKeown, Anne Storer, and the Project Gutenberg Online Distributed Proofreading Team (http://www.pgdp.net)    Note: Project Gutenberg also has an HTML version of this       file which includes the original illustrations.</td>\n",
       "      <td>0.187500</td>\n",
       "      <td>0.375000</td>\n",
       "    </tr>\n",
       "    <tr>\n",
       "      <th>2</th>\n",
       "      <td>See 22497-h.htm or 22497-h.zip:       (http://www.gutenberg.net/dirs/2/2/4/9/22497/22497-h/22497-h.htm)       or       (http://www.gutenberg.net/dirs/2/2/4/9/22497/22497-h.zip)      CAB AND CABOOSE  The Story of a Railroad Boy  by  KIRK MUNROE     OFFICERS OF THE NATIONAL COUNCIL  Honorary President, THE HON.</td>\n",
       "      <td>-0.750000</td>\n",
       "      <td>1.000000</td>\n",
       "    </tr>\n",
       "    <tr>\n",
       "      <th>3</th>\n",
       "      <td>WOODROW WILSON Honorary Vice-President, HON.</td>\n",
       "      <td>0.000000</td>\n",
       "      <td>0.000000</td>\n",
       "    </tr>\n",
       "    <tr>\n",
       "      <th>4</th>\n",
       "      <td>WILLIAM H. TAFT Honorary Vice-President, COLONEL THEODORE ROOSEVELT President, COLIN H. LIVINGSTONE, Washington, D. C. Vice-President, B. L. DULANEY, Bristol, Tenn.</td>\n",
       "      <td>0.000000</td>\n",
       "      <td>0.000000</td>\n",
       "    </tr>\n",
       "    <tr>\n",
       "      <th>5</th>\n",
       "      <td>Vice-President, MILTON A. McRAE, Detroit.</td>\n",
       "      <td>0.000000</td>\n",
       "      <td>0.000000</td>\n",
       "    </tr>\n",
       "    <tr>\n",
       "      <th>6</th>\n",
       "      <td>Mich.</td>\n",
       "      <td>0.000000</td>\n",
       "      <td>0.000000</td>\n",
       "    </tr>\n",
       "    <tr>\n",
       "      <th>7</th>\n",
       "      <td>Vice-President, DAVID STARR JORDAN, Stanford University, Cal.</td>\n",
       "      <td>0.000000</td>\n",
       "      <td>0.000000</td>\n",
       "    </tr>\n",
       "    <tr>\n",
       "      <th>8</th>\n",
       "      <td>Vice-President, F. L. SEELY, Asheville, N. C. Vice-President, A. STAMFORD WHITE, Chicago, Ill. Chief Scout, ERNEST THOMPSON SETON, Greenwich, Connecticut National Scout Commissioner, DANIEL CARTER BEARD, Flushing, N. Y.</td>\n",
       "      <td>0.000000</td>\n",
       "      <td>0.000000</td>\n",
       "    </tr>\n",
       "    <tr>\n",
       "      <th>9</th>\n",
       "      <td>NATIONAL HEADQUARTERS BOY SCOUTS OF AMERICA THE FIFTH AVENUE BUILDING, 200 FIFTH AVENUE TELEPHONE GRAMERCY 545 NEW YORK CITY   FINANCE COMMITTEE  John Sherman Hoyt, Chairman August Belmont George D. Pratt Mortimer L. Schiff H. Rogers Winthrop  GEORGE D. PRATT, Treasurer  JAMES E. WEST, Chief Scout Executive   ADDITIONAL MEMBERS OF THE EXECUTIVE BOARD  Ernest P. Bicknell Robert Garrett Lee F. Hanmer John Sherman Hoyt Charles C. Jackson Prof. Jeremiah W. Jenks William D. Murray Dr. Charles P. Neill George D. Porter Frank Presbrey Edgar M. Robinson Mortimer L. Schiff Lorillard Spencer Seth Sprague Terry                                 July 31st, 1913.</td>\n",
       "      <td>0.136364</td>\n",
       "      <td>0.454545</td>\n",
       "    </tr>\n",
       "  </tbody>\n",
       "</table>\n",
       "</div>"
      ],
      "text/plain": [
       "                                                                                                                                                                                                                                                                                                                                                                                                                                                                                                                                                                                                                                                                           sentence  \\\n",
       "0  The Project Gutenberg eBook, Cab and Caboose, by Kirk Munroe   This eBook is for the use of anyone anywhere at no cost and with almost no restrictions whatsoever.                                                                                                                                                                                                                                                                                                                                                                                                                                                                                                                 \n",
       "1  You may copy it, give it away or re-use it under the terms of the Project Gutenberg License included with this eBook or online at www.gutenberg.org      Title: Cab and Caboose        The Story of a Railroad Boy   Author: Kirk Munroe    Release Date: September 4, 2007  [eBook #22497]  Language: English   ***START OF THE PROJECT GUTENBERG EBOOK CAB AND CABOOSE***   E-text prepared by Mark C. Orton, Linda McKeown, Anne Storer, and the Project Gutenberg Online Distributed Proofreading Team (http://www.pgdp.net)    Note: Project Gutenberg also has an HTML version of this       file which includes the original illustrations.                                 \n",
       "2  See 22497-h.htm or 22497-h.zip:       (http://www.gutenberg.net/dirs/2/2/4/9/22497/22497-h/22497-h.htm)       or       (http://www.gutenberg.net/dirs/2/2/4/9/22497/22497-h.zip)      CAB AND CABOOSE  The Story of a Railroad Boy  by  KIRK MUNROE     OFFICERS OF THE NATIONAL COUNCIL  Honorary President, THE HON.                                                                                                                                                                                                                                                                                                                                                             \n",
       "3  WOODROW WILSON Honorary Vice-President, HON.                                                                                                                                                                                                                                                                                                                                                                                                                                                                                                                                                                                                                                       \n",
       "4  WILLIAM H. TAFT Honorary Vice-President, COLONEL THEODORE ROOSEVELT President, COLIN H. LIVINGSTONE, Washington, D. C. Vice-President, B. L. DULANEY, Bristol, Tenn.                                                                                                                                                                                                                                                                                                                                                                                                                                                                                                               \n",
       "5  Vice-President, MILTON A. McRAE, Detroit.                                                                                                                                                                                                                                                                                                                                                                                                                                                                                                                                                                                                                                          \n",
       "6  Mich.                                                                                                                                                                                                                                                                                                                                                                                                                                                                                                                                                                                                                                                                              \n",
       "7  Vice-President, DAVID STARR JORDAN, Stanford University, Cal.                                                                                                                                                                                                                                                                                                                                                                                                                                                                                                                                                                                                                      \n",
       "8  Vice-President, F. L. SEELY, Asheville, N. C. Vice-President, A. STAMFORD WHITE, Chicago, Ill. Chief Scout, ERNEST THOMPSON SETON, Greenwich, Connecticut National Scout Commissioner, DANIEL CARTER BEARD, Flushing, N. Y.                                                                                                                                                                                                                                                                                                                                                                                                                                                        \n",
       "9  NATIONAL HEADQUARTERS BOY SCOUTS OF AMERICA THE FIFTH AVENUE BUILDING, 200 FIFTH AVENUE TELEPHONE GRAMERCY 545 NEW YORK CITY   FINANCE COMMITTEE  John Sherman Hoyt, Chairman August Belmont George D. Pratt Mortimer L. Schiff H. Rogers Winthrop  GEORGE D. PRATT, Treasurer  JAMES E. WEST, Chief Scout Executive   ADDITIONAL MEMBERS OF THE EXECUTIVE BOARD  Ernest P. Bicknell Robert Garrett Lee F. Hanmer John Sherman Hoyt Charles C. Jackson Prof. Jeremiah W. Jenks William D. Murray Dr. Charles P. Neill George D. Porter Frank Presbrey Edgar M. Robinson Mortimer L. Schiff Lorillard Spencer Seth Sprague Terry                                 July 31st, 1913.   \n",
       "\n",
       "   polarity  subjectivity  \n",
       "0  0.000000  0.000000      \n",
       "1  0.187500  0.375000      \n",
       "2 -0.750000  1.000000      \n",
       "3  0.000000  0.000000      \n",
       "4  0.000000  0.000000      \n",
       "5  0.000000  0.000000      \n",
       "6  0.000000  0.000000      \n",
       "7  0.000000  0.000000      \n",
       "8  0.000000  0.000000      \n",
       "9  0.136364  0.454545      "
      ]
     },
     "execution_count": 185,
     "metadata": {},
     "output_type": "execute_result"
    }
   ],
   "source": [
    "PatternAnalyzerDF.head(10)"
   ]
  },
  {
   "cell_type": "markdown",
   "metadata": {},
   "source": [
    "**Plotting sentiment variation in the book as the story is unveiled**"
   ]
  },
  {
   "cell_type": "code",
   "execution_count": 188,
   "metadata": {},
   "outputs": [],
   "source": [
    "import matplotlib.pyplot as plt\n",
    "PatternAnalyzerDF.sort_index(inplace=True)\n",
    "sentiment_top_df = PatternAnalyzerDF.head(n=200)\n",
    "pd.set_option('display.max_colwidth', 200)"
   ]
  },
  {
   "cell_type": "code",
   "execution_count": 194,
   "metadata": {},
   "outputs": [
    {
     "data": {
      "image/png": "[encoded data removed]",
      "text/plain": [
       "<Figure size 1440x720 with 1 Axes>"
      ]
     },
     "metadata": {
      "needs_background": "light"
     },
     "output_type": "display_data"
    }
   ],
   "source": [
    "plt.figure().set_size_inches(20, 10)\n",
    "plt.plot(sentiment_top_df['polarity'])\n",
    "plt.xlabel('Sentence')\n",
    "plt.ylabel('Polarity')\n",
    "plt.show()"
   ]
  }
 ],
 "metadata": {
  "kernelspec": {
   "display_name": "Python 3",
   "language": "python",
   "name": "python3"
  },
  "language_info": {
   "codemirror_mode": {
    "name": "ipython",
    "version": 3
   },
   "file_extension": ".py",
   "mimetype": "text/x-python",
   "name": "python",
   "nbconvert_exporter": "python",
   "pygments_lexer": "ipython3",
   "version": "3.8.3"
  }
 },
 "nbformat": 4,
 "nbformat_minor": 4
}
